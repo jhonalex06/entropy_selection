{
 "cells": [
  {
   "cell_type": "markdown",
   "metadata": {},
   "source": [
    "Fuente: https://github.com/raiyan1102006/ChiMerge"
   ]
  },
  {
   "cell_type": "code",
   "execution_count": 1,
   "metadata": {},
   "outputs": [],
   "source": [
    "##################\n",
    "# Indicaciones\n",
    "##################\n",
    "\n",
    "# 1. Editar la ruta y nombre del archivo en la sección \"Cargar Datos\"\n",
    "# 2. Seleccionar la variable numerica en la sección \"Definir Variable Numerica\"\n",
    "# 3. Seleccionar la variable categorica en la sección \"Definir Variable Categorica\"\n",
    "# 4. Definir el numero de categorias en la sección \"Definir las categorias\" \n",
    "    # 4.1 El codigo está con 3 categorías, si se requieren una cantidad diferente\n",
    "    # se hace necesario editar las secciones \"Unir filas basado en valores minimos de chi cuadrado\"\n",
    "    # \"Calcular los valores de chi cuadrado para cada par de filas\" y \"Calcular tabla de frecuencias\""
   ]
  },
  {
   "cell_type": "code",
   "execution_count": 1,
   "metadata": {},
   "outputs": [],
   "source": [
    "##################\n",
    "# Importar librerias\n",
    "##################\n",
    "\n",
    "import pandas as pd\n",
    "import numpy as np\n",
    "import os\n",
    "import math"
   ]
  },
  {
   "cell_type": "code",
   "execution_count": 7,
   "metadata": {},
   "outputs": [
    {
     "data": {
      "text/html": [
       "<div>\n",
       "<style scoped>\n",
       "    .dataframe tbody tr th:only-of-type {\n",
       "        vertical-align: middle;\n",
       "    }\n",
       "\n",
       "    .dataframe tbody tr th {\n",
       "        vertical-align: top;\n",
       "    }\n",
       "\n",
       "    .dataframe thead th {\n",
       "        text-align: right;\n",
       "    }\n",
       "</style>\n",
       "<table border=\"1\" class=\"dataframe\">\n",
       "  <thead>\n",
       "    <tr style=\"text-align: right;\">\n",
       "      <th></th>\n",
       "      <th>sepal_length</th>\n",
       "      <th>sepal_width</th>\n",
       "      <th>petal_length</th>\n",
       "      <th>petal_width</th>\n",
       "      <th>target_class</th>\n",
       "    </tr>\n",
       "  </thead>\n",
       "  <tbody>\n",
       "    <tr>\n",
       "      <th>0</th>\n",
       "      <td>5.1</td>\n",
       "      <td>3.5</td>\n",
       "      <td>1.4</td>\n",
       "      <td>0.2</td>\n",
       "      <td>Iris-setosa</td>\n",
       "    </tr>\n",
       "    <tr>\n",
       "      <th>1</th>\n",
       "      <td>4.9</td>\n",
       "      <td>3.0</td>\n",
       "      <td>1.4</td>\n",
       "      <td>0.2</td>\n",
       "      <td>Iris-setosa</td>\n",
       "    </tr>\n",
       "    <tr>\n",
       "      <th>2</th>\n",
       "      <td>4.7</td>\n",
       "      <td>3.2</td>\n",
       "      <td>1.3</td>\n",
       "      <td>0.2</td>\n",
       "      <td>Iris-setosa</td>\n",
       "    </tr>\n",
       "    <tr>\n",
       "      <th>3</th>\n",
       "      <td>4.6</td>\n",
       "      <td>3.1</td>\n",
       "      <td>1.5</td>\n",
       "      <td>0.2</td>\n",
       "      <td>Iris-setosa</td>\n",
       "    </tr>\n",
       "    <tr>\n",
       "      <th>4</th>\n",
       "      <td>5.0</td>\n",
       "      <td>3.6</td>\n",
       "      <td>1.4</td>\n",
       "      <td>0.2</td>\n",
       "      <td>Iris-setosa</td>\n",
       "    </tr>\n",
       "  </tbody>\n",
       "</table>\n",
       "</div>"
      ],
      "text/plain": [
       "   sepal_length  sepal_width  petal_length  petal_width target_class\n",
       "0           5.1          3.5           1.4          0.2  Iris-setosa\n",
       "1           4.9          3.0           1.4          0.2  Iris-setosa\n",
       "2           4.7          3.2           1.3          0.2  Iris-setosa\n",
       "3           4.6          3.1           1.5          0.2  Iris-setosa\n",
       "4           5.0          3.6           1.4          0.2  Iris-setosa"
      ]
     },
     "execution_count": 7,
     "metadata": {},
     "output_type": "execute_result"
    }
   ],
   "source": [
    "###########\n",
    "# Cargar Datos. Si es necesario, editar la ruta del dataset y el nombre del mismo\n",
    "###########\n",
    "\n",
    "mainpath = \"/home/shade/Maestria/entropy_selection/ChiMerge\" #Ruta del dataset. En este caso \"Mis Documentos\"\n",
    "filename = \"data.csv\" #Nombre del archivo CSV del dataset\n",
    "fullpath = os.path.join(mainpath, filename)\n",
    "\n",
    "data = pd.read_csv(fullpath)\n",
    "data.head(5)"
   ]
  },
  {
   "cell_type": "code",
   "execution_count": 3,
   "metadata": {},
   "outputs": [],
   "source": [
    "###########\n",
    "# Definir la variable numerica\n",
    "# En este caso es la primera columna (columna 0). Modificar el numero dentro de data.columns\n",
    "###########\n",
    "\n",
    "VariableNumerica = data.columns[0]"
   ]
  },
  {
   "cell_type": "code",
   "execution_count": 6,
   "metadata": {},
   "outputs": [
    {
     "data": {
      "text/plain": [
       "(150, 5)"
      ]
     },
     "execution_count": 6,
     "metadata": {},
     "output_type": "execute_result"
    }
   ],
   "source": [
    "data.shape"
   ]
  },
  {
   "cell_type": "code",
   "execution_count": 4,
   "metadata": {},
   "outputs": [
    {
     "data": {
      "text/plain": [
       "array(['Iris-setosa', 'Iris-versicolor', 'Iris-virginica'], dtype=object)"
      ]
     },
     "execution_count": 4,
     "metadata": {},
     "output_type": "execute_result"
    }
   ],
   "source": [
    "###########\n",
    "# Definir la variable categorica\n",
    "# En este caso es la ultima columna (columna 4). Modificar el numero dentro de data.columns\n",
    "###########\n",
    "\n",
    "VariableCategorica = data.columns[4]\n",
    "Categorias = data[VariableCategorica].unique()\n",
    "Categorias"
   ]
  },
  {
   "cell_type": "code",
   "execution_count": 9,
   "metadata": {},
   "outputs": [],
   "source": [
    "###########\n",
    "# Definir las categorias\n",
    "# En este caso hay 3 categorías, si se requiere, se agregan más o menos variables \n",
    "# pero es necesario editar algunas secciones del código. \n",
    "# Secciones definidas en los comentarios y explicadas en las indicaciones\n",
    "###########\n",
    "\n",
    "CategoriaUno = Categorias[0]\n",
    "CategoriaDos = Categorias[1]\n",
    "CategoriaTres = Categorias[2]"
   ]
  },
  {
   "cell_type": "code",
   "execution_count": 10,
   "metadata": {},
   "outputs": [],
   "source": [
    "###############################################\n",
    "# Unir filas basado en valores minimos de chi cuadrado \n",
    "###############################################\n",
    "\n",
    "def merge_rows(df, feature):\n",
    "\n",
    "    tdf = df[:-1]\n",
    "    distinct_values = sorted(set(tdf['chi2']), reverse=False)\n",
    "\n",
    "    #***********************************************************************#\n",
    "    #******** EDITAR SI SE AGREGARON MAS O MENOS DE TRES CATEGORIAS ********#\n",
    "    #***********************************************************************#\n",
    "    col_names =  [feature, CategoriaUno, CategoriaDos, CategoriaTres,'chi2']\n",
    "    \n",
    "    #Nuevo dataset\n",
    "    updated_df  = pd.DataFrame(columns = col_names) \n",
    "    \n",
    "    updated_df_index = 0\n",
    "    for index, row in df.iterrows(): #Itera sobre el antiguo dataset\n",
    "        if(index == 0):\n",
    "            updated_df.loc[len(updated_df)] = df.loc[index]\n",
    "            updated_df_index += 1\n",
    "        else:\n",
    "            if(df.loc[index - 1]['chi2'] == distinct_values[0]): #Unir\n",
    "                \n",
    "                #***********************************************************************#\n",
    "                #******** EDITAR SI SE AGREGARON MAS O MENOS DE TRES CATEGORIAS ********#\n",
    "                #***********************************************************************#\n",
    "                updated_df.loc[updated_df_index - 1][CategoriaUno] += df.loc[index][CategoriaUno]\n",
    "                updated_df.loc[updated_df_index - 1][CategoriaDos] += df.loc[index][CategoriaDos]\n",
    "                updated_df.loc[updated_df_index - 1][CategoriaTres] += df.loc[index][CategoriaTres]\n",
    "            else:\n",
    "                updated_df.loc[len(updated_df)] = df.loc[index]\n",
    "                updated_df_index += 1\n",
    "                \n",
    "    updated_df['chi2'] = 0. #Limpia los valores antiguos de chi cuadrado\n",
    "\n",
    "    return updated_df"
   ]
  },
  {
   "cell_type": "code",
   "execution_count": 11,
   "metadata": {},
   "outputs": [],
   "source": [
    "#####################\n",
    "# Funcion chi cuadrado\n",
    "#####################\n",
    "\n",
    "def calc_chi2(array):\n",
    "    shape = array.shape\n",
    "    n = float(array.sum()) #Numero total de entrada\n",
    "    row={}\n",
    "    column={}\n",
    "    \n",
    "    #Encuentra la suma de filas\n",
    "    for i in range(shape[0]):\n",
    "        row[i] = array[i].sum()\n",
    "    \n",
    "    #Encuentra la suma de columnas\n",
    "    for j in range(shape[1]):\n",
    "        column[j] = array[:, j].sum()\n",
    "\n",
    "    chi2 = 0\n",
    "    \n",
    "    #Usa la formula de chi cuadrado\n",
    "    for i in range(shape[0]):\n",
    "        for j in range(shape[1]):\n",
    "            eij = row[i] * column[j] / n \n",
    "            oij = array[i, j]  \n",
    "            if eij == 0.:\n",
    "                chi2 += 0. #Nos aseguramos que el valor no moleste\n",
    "            else: \n",
    "                chi2 += math.pow((oij - eij), 2) / float(eij)\n",
    "  \n",
    "    return chi2"
   ]
  },
  {
   "cell_type": "code",
   "execution_count": 12,
   "metadata": {},
   "outputs": [],
   "source": [
    "##################################################################\n",
    "# Calcular los valores de chi cuadrado para cada par de filas\n",
    "##################################################################\n",
    "\n",
    "def update_chi2_column(contingency_table, feature):\n",
    "    \n",
    "    for index, row in contingency_table.iterrows():\n",
    "        #No queremos trabajar solo con la última fila\n",
    "        if(index != contingency_table.shape[0] - 1): \n",
    "            \n",
    "            #Prepara una matriz con dos filas de datos a la vez\n",
    "            list1 = []\n",
    "            list2 = []\n",
    "            \n",
    "            #***********************************************************************#\n",
    "            #******** EDITAR SI SE AGREGARON MAS O MENOS DE TRES CATEGORIAS ********#\n",
    "            #***********************************************************************#\n",
    "            list1.append(contingency_table.loc[index][CategoriaUno])\n",
    "            list1.append(contingency_table.loc[index][CategoriaDos])\n",
    "            list1.append(contingency_table.loc[index][CategoriaTres])\n",
    "            list2.append(contingency_table.loc[index + 1][CategoriaUno])\n",
    "            list2.append(contingency_table.loc[index + 1][CategoriaDos])\n",
    "            list2.append(contingency_table.loc[index + 1][CategoriaTres])\n",
    "            prep_chi2 = np.array([np.array(list1), np.array(list2)])\n",
    "            \n",
    "            #Calcula los valores de chi cuadrado\n",
    "            c2 = calc_chi2(prep_chi2)\n",
    "            \n",
    "            #Actualiza el dataframe\n",
    "            contingency_table.loc[index]['chi2'] = c2\n",
    "    return contingency_table\n"
   ]
  },
  {
   "cell_type": "code",
   "execution_count": 13,
   "metadata": {},
   "outputs": [],
   "source": [
    "##############################################\n",
    "# Calcular tabla de frecuencias\n",
    "##############################################\n",
    "\n",
    "def create_contingency_table(dataframe, feature):\n",
    "    distinct_values = sorted(set(dataframe[feature]), reverse = False)\n",
    "    \n",
    "    #***********************************************************************#\n",
    "    #******** EDITAR SI SE AGREGARON MAS O MENOS DE TRES CATEGORIAS ********#\n",
    "    #***********************************************************************#\n",
    "    col_names =  [feature, CategoriaUno, CategoriaDos, CategoriaTres, 'chi2']\n",
    "    my_contingency  = pd.DataFrame(columns = col_names)\n",
    "    \n",
    "    #Estos son valores de atributos distintos\n",
    "    for i in range(len(distinct_values)): \n",
    "        temp_df = dataframe.loc[dataframe[feature] == distinct_values[i]]\n",
    "        count_dict = temp_df[\"target_class\"].value_counts().to_dict()\n",
    "\n",
    "        #***********************************************************************#\n",
    "        #******** EDITAR SI SE AGREGARON MAS O MENOS DE TRES CATEGORIAS ********#\n",
    "        #***********************************************************************#\n",
    "        #Inicializa con frecuencias en cero\n",
    "        CategoriaUno_count = 0\n",
    "        CategoriaDos_count = 0\n",
    "        CategoriaTres_count = 0\n",
    "\n",
    "        #***********************************************************************#\n",
    "        #******** EDITAR SI SE AGREGARON MAS O MENOS DE TRES CATEGORIAS ********#\n",
    "        #***********************************************************************#\n",
    "        #Actualiza si es necesario\n",
    "        if CategoriaUno in count_dict:\n",
    "            CategoriaUno_count = count_dict[CategoriaUno]\n",
    "        if CategoriaDos in count_dict:\n",
    "            CategoriaDos_count = count_dict[CategoriaDos]\n",
    "        if CategoriaTres in count_dict:\n",
    "            CategoriaTres_count = count_dict[CategoriaTres]\n",
    "\n",
    "        #***********************************************************************#\n",
    "        #******** EDITAR SI SE AGREGARON MAS O MENOS DE TRES CATEGORIAS ********#\n",
    "        #***********************************************************************#\n",
    "        new_row = [distinct_values[i], CategoriaUno_count, CategoriaDos_count, CategoriaTres_count, 0]\n",
    "        my_contingency.loc[len(my_contingency)] = new_row\n",
    "\n",
    "    return my_contingency"
   ]
  },
  {
   "cell_type": "code",
   "execution_count": 14,
   "metadata": {},
   "outputs": [],
   "source": [
    "####################\n",
    "# Funcion Chi Merge\n",
    "####################\n",
    "\n",
    "def chimerge(feature, data, max_interval):\n",
    "    df = data.sort_values(by = [feature], ascending = True).reset_index()\n",
    "    \n",
    "    #Genera la tabla de frecuencias\n",
    "    contingency_table = create_contingency_table(df, feature)\n",
    "\n",
    "    #Calcula el numero inicial de intervalos\n",
    "    num_intervals = contingency_table.shape[0] \n",
    "\n",
    "    #Mantener el ciclo hasta que se cumpla la condición de intervalo máximo\n",
    "    while num_intervals > max_interval: \n",
    "        #Calcular chi cuadrado para pares de filas adyacentes\n",
    "        chi2_df = update_chi2_column(contingency_table, feature) \n",
    "        \n",
    "        #Fusionar filas basadas en los valores mínimos de chi cuadrado\n",
    "        contingency_table = merge_rows(chi2_df, feature)\n",
    "        \n",
    "        #Actualizar numero de intervalos\n",
    "        num_intervals = contingency_table.shape[0]               \n",
    "\n",
    "    #Imprimir resultados\n",
    "    print('Los intervalos del atributo numerico ' + feature + ' son:')\n",
    "    for index, row in contingency_table.iterrows():\n",
    "        if(index != contingency_table.shape[0] - 1):\n",
    "            for index2, row2 in df.iterrows():\n",
    "                if df.loc[index2][feature] < contingency_table.loc[index + 1][feature]:\n",
    "                    temp = df.loc[index2][feature]\n",
    "        else:\n",
    "            temp = df[feature].iloc[-1]\n",
    "        print(\"[\" + str(contingency_table.loc[index][feature]) + \", \" + str(temp) + \"]\")"
   ]
  },
  {
   "cell_type": "code",
   "execution_count": 23,
   "metadata": {},
   "outputs": [
    {
     "name": "stdout",
     "output_type": "stream",
     "text": [
      "Los intervalos del atributo numerico sepal_length son:\n",
      "[4.3, 4.8]\n",
      "[4.9, 4.9]\n",
      "[5.0, 5.4]\n",
      "[5.5, 5.7]\n",
      "[5.8, 7.0]\n",
      "[7.1, 7.9]\n"
     ]
    }
   ],
   "source": [
    "for feature in [VariableNumerica]:\n",
    "    chimerge(feature = feature, data = data, max_interval = 6)"
   ]
  }
 ],
 "metadata": {
  "kernelspec": {
   "display_name": "Python 3",
   "language": "python",
   "name": "python3"
  },
  "language_info": {
   "codemirror_mode": {
    "name": "ipython",
    "version": 3
   },
   "file_extension": ".py",
   "mimetype": "text/x-python",
   "name": "python",
   "nbconvert_exporter": "python",
   "pygments_lexer": "ipython3",
   "version": "3.7.5"
  }
 },
 "nbformat": 4,
 "nbformat_minor": 2
}
